{
 "cells": [
  {
   "cell_type": "code",
   "execution_count": 5,
   "metadata": {},
   "outputs": [
    {
     "name": "stdout",
     "output_type": "stream",
     "text": [
      "NO MESSAGE IN QUEUE\n"
     ]
    },
    {
     "ename": "KeyboardInterrupt",
     "evalue": "",
     "output_type": "error",
     "traceback": [
      "\u001b[1;31m---------------------------------------------------------------------------\u001b[0m",
      "\u001b[1;31mKeyboardInterrupt\u001b[0m                         Traceback (most recent call last)",
      "\u001b[1;32m<ipython-input-5-c9e1625c76c5>\u001b[0m in \u001b[0;36m<module>\u001b[1;34m\u001b[0m\n\u001b[0;32m     63\u001b[0m     \u001b[1;32mwhile\u001b[0m\u001b[1;33m(\u001b[0m\u001b[0mloopcount\u001b[0m\u001b[1;33m<\u001b[0m\u001b[1;36m1000\u001b[0m\u001b[1;33m)\u001b[0m\u001b[1;33m:\u001b[0m\u001b[1;33m\u001b[0m\u001b[1;33m\u001b[0m\u001b[0m\n\u001b[0;32m     64\u001b[0m         \u001b[0mreadq\u001b[0m\u001b[1;33m(\u001b[0m\u001b[1;33m)\u001b[0m\u001b[1;33m\u001b[0m\u001b[1;33m\u001b[0m\u001b[0m\n\u001b[1;32m---> 65\u001b[1;33m         \u001b[0mtime\u001b[0m\u001b[1;33m.\u001b[0m\u001b[0msleep\u001b[0m\u001b[1;33m(\u001b[0m\u001b[1;36m10\u001b[0m\u001b[1;33m)\u001b[0m\u001b[1;33m\u001b[0m\u001b[1;33m\u001b[0m\u001b[0m\n\u001b[0m\u001b[0;32m     66\u001b[0m         \u001b[0mloopcount\u001b[0m\u001b[1;33m=\u001b[0m\u001b[0mloopcount\u001b[0m\u001b[1;33m+\u001b[0m\u001b[1;36m1\u001b[0m\u001b[1;33m\u001b[0m\u001b[1;33m\u001b[0m\u001b[0m\n",
      "\u001b[1;31mKeyboardInterrupt\u001b[0m: "
     ]
    }
   ],
   "source": [
    "import requests\n",
    "import psycopg2\n",
    "import time\n",
    "import smtplib\n",
    "\n",
    "\n",
    "def sendemail(uid,aid,price,email):\n",
    "    mailsrv = smtplib.SMTP('smtp.gmail.com',587)\n",
    "    mailsrv.starttls()\n",
    "    mailsrv.login('12thcupofcoffee@gmail.com','secretkey')\n",
    "    body='GREETINGS FROM KRYPTO ALERT API SERVICE! DEAR user: '+str(uid)+ '  your alert for bitcoin: '+str(aid)+' is triggered!'+' it has reached the price:'+str(price)\n",
    "    print(body)\n",
    "    mailsrv.sendmail(\"KRYPTO ALERT- 18BCE10257\",email,body)\n",
    "    mailsrv.quit()\n",
    "  \n",
    "    \n",
    "\n",
    "\n",
    "def readq():\n",
    "\n",
    "        DBHOST = \"http://172.0.0.1/\"\n",
    "        DBUSER = \"postgres\"\n",
    "        DBPASS =\"postgres\"\n",
    "\n",
    "\n",
    "        conn = psycopg2.connect(\n",
    "                host=\"localhost\",\n",
    "                database=\"postgres\",\n",
    "                user=\"postgres\",\n",
    "                password=\"postgres\")\n",
    "\n",
    "\n",
    "        cur =  conn.cursor()\n",
    "        cur.execute('SELECT uid,aid,price,email from public.alertq;')\n",
    "        #cur.execute('SELECT alert.uid,alert.aid,alert.price, userdata.email from public.alert left join public.userdata on alert.uid=userdata.uid where price=%s and status=false',[50000])\n",
    "        result = cur.fetchall()\n",
    "        if(len(result)>0):\n",
    "            for r in result:\n",
    "                uid = r[0]\n",
    "                aid = r[1]\n",
    "                price=r[2]\n",
    "                email= r[3]\n",
    "                qinput=(r[0],r[1],r[2])\n",
    "                sendemail(uid,aid,price,email)\n",
    "                \n",
    "                cur.execute('Delete from public.alertq where uid=%s and aid=%s and price=%s;',qinput)\n",
    "                \n",
    "                conn.commit()\n",
    "                \n",
    "\n",
    "        else:\n",
    "            print(\"NO MESSAGE IN QUEUE\")\n",
    "\n",
    "\n",
    "\n",
    "        cur.close()\n",
    "        conn.close()\n",
    "\n",
    "        \n",
    "        \n",
    "\n",
    "    \n",
    "\n",
    "if __name__ == \"__main__\":\n",
    "    loopcount = 0\n",
    "    while(loopcount<1000):\n",
    "        readq()\n",
    "        time.sleep(10)\n",
    "        loopcount=loopcount+1"
   ]
  },
  {
   "cell_type": "code",
   "execution_count": 14,
   "metadata": {},
   "outputs": [
    {
     "name": "stdout",
     "output_type": "stream",
     "text": [
      "GREETINGS FROM KRYPTO ALERT API SERVICE! DEAR user: 22  your alert for bitcoin: 2 is triggered! it has reached the price:3000\n"
     ]
    }
   ],
   "source": []
  },
  {
   "cell_type": "code",
   "execution_count": null,
   "metadata": {},
   "outputs": [],
   "source": []
  },
  {
   "cell_type": "code",
   "execution_count": null,
   "metadata": {},
   "outputs": [],
   "source": []
  }
 ],
 "metadata": {
  "kernelspec": {
   "display_name": "Python 3",
   "language": "python",
   "name": "python3"
  },
  "language_info": {
   "codemirror_mode": {
    "name": "ipython",
    "version": 3
   },
   "file_extension": ".py",
   "mimetype": "text/x-python",
   "name": "python",
   "nbconvert_exporter": "python",
   "pygments_lexer": "ipython3",
   "version": "3.7.6"
  }
 },
 "nbformat": 4,
 "nbformat_minor": 4
}
