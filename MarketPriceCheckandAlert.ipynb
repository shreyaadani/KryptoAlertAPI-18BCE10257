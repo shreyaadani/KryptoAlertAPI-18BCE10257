{
 "cells": [
  {
   "cell_type": "code",
   "execution_count": 24,
   "metadata": {},
   "outputs": [
    {
     "name": "stdout",
     "output_type": "stream",
     "text": [
      "{'bitcoin': {'usd': 46069}}\n",
      "46069\n",
      "NO ALERT TRIGGERED\n",
      "{'bitcoin': {'usd': 46069}}\n",
      "46069\n",
      "NO ALERT TRIGGERED\n",
      "{'bitcoin': {'usd': 46069}}\n",
      "46069\n",
      "NO ALERT TRIGGERED\n",
      "{'bitcoin': {'usd': 46069}}\n",
      "46069\n",
      "NO ALERT TRIGGERED\n",
      "{'bitcoin': {'usd': 46069}}\n",
      "46069\n",
      "NO ALERT TRIGGERED\n",
      "{'bitcoin': {'usd': 46069}}\n",
      "46069\n",
      "NO ALERT TRIGGERED\n",
      "{'bitcoin': {'usd': 46077}}\n",
      "46077\n",
      "NO ALERT TRIGGERED\n",
      "{'bitcoin': {'usd': 46077}}\n",
      "46077\n",
      "NO ALERT TRIGGERED\n"
     ]
    },
    {
     "ename": "KeyboardInterrupt",
     "evalue": "",
     "output_type": "error",
     "traceback": [
      "\u001b[1;31m---------------------------------------------------------------------------\u001b[0m",
      "\u001b[1;31mKeyboardInterrupt\u001b[0m                         Traceback (most recent call last)",
      "\u001b[1;32m<ipython-input-24-122827c4fa55>\u001b[0m in \u001b[0;36m<module>\u001b[1;34m\u001b[0m\n\u001b[0;32m     55\u001b[0m     \u001b[1;32mwhile\u001b[0m\u001b[1;33m(\u001b[0m\u001b[0mloopcount\u001b[0m\u001b[1;33m<\u001b[0m\u001b[1;36m1000\u001b[0m\u001b[1;33m)\u001b[0m\u001b[1;33m:\u001b[0m\u001b[1;33m\u001b[0m\u001b[1;33m\u001b[0m\u001b[0m\n\u001b[0;32m     56\u001b[0m         \u001b[0mfulltime\u001b[0m\u001b[1;33m(\u001b[0m\u001b[1;33m)\u001b[0m\u001b[1;33m\u001b[0m\u001b[1;33m\u001b[0m\u001b[0m\n\u001b[1;32m---> 57\u001b[1;33m         \u001b[0mtime\u001b[0m\u001b[1;33m.\u001b[0m\u001b[0msleep\u001b[0m\u001b[1;33m(\u001b[0m\u001b[1;36m10\u001b[0m\u001b[1;33m)\u001b[0m\u001b[1;33m\u001b[0m\u001b[1;33m\u001b[0m\u001b[0m\n\u001b[0m\u001b[0;32m     58\u001b[0m         \u001b[0mloopcount\u001b[0m\u001b[1;33m=\u001b[0m\u001b[0mloopcount\u001b[0m\u001b[1;33m+\u001b[0m\u001b[1;36m1\u001b[0m\u001b[1;33m\u001b[0m\u001b[1;33m\u001b[0m\u001b[0m\n",
      "\u001b[1;31mKeyboardInterrupt\u001b[0m: "
     ]
    }
   ],
   "source": [
    "import requests\n",
    "import psycopg2\n",
    "import time\n",
    "\n",
    "def fulltime():\n",
    "        response = requests.get('https://api.coingecko.com/api/v3/simple/price?ids=bitcoin&vs_currencies=USD')\n",
    "        data= response.json()\n",
    "        print(data)\n",
    "\n",
    "        marketprice = data['bitcoin']['usd']\n",
    "        print(marketprice)\n",
    "\n",
    "        DBHOST = \"http://172.0.0.1/\"\n",
    "        DBUSER = \"postgres\"\n",
    "        DBPASS =\"postgres\"\n",
    "\n",
    "\n",
    "        conn = psycopg2.connect(\n",
    "                host=\"localhost\",\n",
    "                database=\"postgres\",\n",
    "                user=\"postgres\",\n",
    "                password=\"postgres\")\n",
    "\n",
    "\n",
    "        cur =  conn.cursor()\n",
    "       # cur.execute('SELECT uid,aid,price from public.alert where price=%s and status=false',[marketprice])\n",
    "        cur.execute('SELECT alert.uid,alert.aid,alert.price, userdata.email from public.alert left join public.userdata on alert.uid=userdata.uid where price=%s and status=false',[50000])\n",
    "        result = cur.fetchall()\n",
    "        if(len(result)>0):\n",
    "            for r in result:\n",
    "                price= r[2]\n",
    "                data = (r[1],r[0])\n",
    "                qinput=(r[0],r[1],r[2],r[3])\n",
    "                cur.execute('UPDATE public.alert SET status= true, alerttime= now() WHERE aid=%s and uid=%s;',data)\n",
    "                cur.execute('INSERT INTO public.alertq(uid, aid, price,email)VALUES (%s, %s, %s,%s);',qinput)\n",
    "                \n",
    "                conn.commit()\n",
    "                \n",
    "\n",
    "        else:\n",
    "            print(\"NO ALERT TRIGGERED\")\n",
    "\n",
    "\n",
    "\n",
    "        cur.close()\n",
    "        conn.close()\n",
    "\n",
    "        \n",
    "        \n",
    "\n",
    "    \n",
    "\n",
    "if __name__ == \"__main__\":\n",
    "    loopcount = 0\n",
    "    while(loopcount<1000):\n",
    "        fulltime()\n",
    "        time.sleep(10)\n",
    "        loopcount=loopcount+1"
   ]
  },
  {
   "cell_type": "code",
   "execution_count": null,
   "metadata": {},
   "outputs": [],
   "source": []
  }
 ],
 "metadata": {
  "kernelspec": {
   "display_name": "Python 3",
   "language": "python",
   "name": "python3"
  },
  "language_info": {
   "codemirror_mode": {
    "name": "ipython",
    "version": 3
   },
   "file_extension": ".py",
   "mimetype": "text/x-python",
   "name": "python",
   "nbconvert_exporter": "python",
   "pygments_lexer": "ipython3",
   "version": "3.7.6"
  }
 },
 "nbformat": 4,
 "nbformat_minor": 4
}
