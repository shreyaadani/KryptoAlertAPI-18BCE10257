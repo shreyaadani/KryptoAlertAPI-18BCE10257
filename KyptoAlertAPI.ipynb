{
 "cells": [
  {
   "cell_type": "code",
   "execution_count": null,
   "metadata": {
    "scrolled": true
   },
   "outputs": [
    {
     "name": "stdout",
     "output_type": "stream",
     "text": [
      " * Serving Flask app \"__main__\" (lazy loading)\n",
      " * Environment: production\n",
      "   WARNING: This is a development server. Do not use it in a production deployment.\n",
      "   Use a production WSGI server instead.\n",
      " * Debug mode: off\n"
     ]
    },
    {
     "name": "stderr",
     "output_type": "stream",
     "text": [
      " * Running on http://127.0.0.1:5000/ (Press CTRL+C to quit)\n",
      "127.0.0.1 - - [10/Sep/2021 16:58:42] \"\u001b[37mGET /alert/create/3/60000 HTTP/1.1\u001b[0m\" 200 -\n"
     ]
    },
    {
     "name": "stdout",
     "output_type": "stream",
     "text": [
      "(3, 106, 60000)\n"
     ]
    },
    {
     "name": "stderr",
     "output_type": "stream",
     "text": [
      "127.0.0.1 - - [10/Sep/2021 16:58:54] \"\u001b[37mGET /alert/myalert/3 HTTP/1.1\u001b[0m\" 200 -\n"
     ]
    },
    {
     "name": "stdout",
     "output_type": "stream",
     "text": [
      "[(106, 'BTC', 60000, False)]\n",
      "[(106, 'BTC', 60000, False)]\n"
     ]
    },
    {
     "name": "stderr",
     "output_type": "stream",
     "text": [
      "127.0.0.1 - - [10/Sep/2021 16:59:30] \"\u001b[37mGET /alert/myalert/1 HTTP/1.1\u001b[0m\" 200 -\n"
     ]
    },
    {
     "name": "stdout",
     "output_type": "stream",
     "text": [
      "[(101, None, 30000, True), (102, None, 40000, False), (103, None, 50000, False), (104, None, 50000, False), (105, None, 50000, False)]\n",
      "[(101, None, 30000, True), (102, None, 40000, False), (103, None, 50000, False), (104, None, 50000, False), (105, None, 50000, False)]\n"
     ]
    },
    {
     "name": "stderr",
     "output_type": "stream",
     "text": [
      "127.0.0.1 - - [10/Sep/2021 16:59:45] \"\u001b[37mGET /alert/myalert/1 HTTP/1.1\u001b[0m\" 200 -\n"
     ]
    },
    {
     "name": "stdout",
     "output_type": "stream",
     "text": [
      "[(101, None, 30000, True), (102, None, 40000, False), (103, None, 50000, False), (104, None, 50000, False), (105, None, 50000, False)]\n",
      "[(101, None, 30000, True), (102, None, 40000, False), (103, None, 50000, False), (104, None, 50000, False), (105, None, 50000, False)]\n"
     ]
    }
   ],
   "source": [
    "from flask import Flask, jsonify\n",
    "import random\n",
    "import psycopg2\n",
    "\n",
    "\n",
    "\n",
    "app = Flask(__name__)\n",
    "\n",
    "@app.route(\"/\")\n",
    "def start():\n",
    "    return \"go alert/create to add new alert \\n go alert/delete to delete alert\"\n",
    "@app.route(\"/alert\")\n",
    "def hello_world():\n",
    "    return \"<p>ALERT!</p>\"\n",
    "\n",
    "\n",
    "@app.route(\"/alert/create/<int:c_uid>/<int:c_price>\")\n",
    "def createalert(c_uid,c_price):\n",
    "    \n",
    "    \n",
    "    DBHOST = \"http://172.0.0.1/\"\n",
    "    DBUSER = \"postgres\"\n",
    "    DBPASS =\"postgres\"\n",
    "\n",
    "#conn = psycopg2.connect(dbname=\"postgres\",user= DBUSER, password= DBPASS, host= DBHOST)\n",
    "    conn = psycopg2.connect(\n",
    "        host=\"localhost\",\n",
    "        database=\"postgres\",\n",
    "        user=\"postgres\",\n",
    "        password=\"postgres\")\n",
    "\n",
    "    \n",
    "    \n",
    "    cur =  conn.cursor()\n",
    "    cur.execute(\"select max(aid) from public.alert\")\n",
    "    aidr = cur.fetchone()\n",
    "    aid = aidr[0]+1\n",
    "    data = (c_uid, aid, c_price)\n",
    "    print(data)\n",
    "    cur =  conn.cursor()\n",
    "    cur.execute(\"INSERT INTO public.alert(uid, aid, price, status, alerttime,coinid)VALUES (%s,%s,%s,false,now(),'BTC');\",data)\n",
    "    \n",
    "    conn.commit()\n",
    "\n",
    "    \n",
    "    \n",
    "    cur.close()\n",
    "    conn.close()\n",
    "\n",
    "    \n",
    "    return  \"done. new alert created successfully \"\n",
    "\n",
    "\n",
    "\n",
    "\n",
    "\n",
    "\n",
    "@app.route(\"/alert/delete/<int:c_uid>/<int:aid>\")\n",
    "def deletealert(c_uid,aid):\n",
    "    DBHOST = \"http://172.0.0.1/\"\n",
    "    DBUSER = \"postgres\"\n",
    "    DBPASS =\"postgres\"\n",
    "\n",
    "\n",
    "    conn = psycopg2.connect(\n",
    "        host=\"localhost\",\n",
    "        database=\"postgres\",\n",
    "        user=\"postgres\",\n",
    "        password=\"postgres\")\n",
    "\n",
    "    \n",
    "    data=(aid,c_uid)\n",
    "    cur =  conn.cursor()\n",
    "    cur.execute(\"DELETE FROM public.alert WHERE aid=%s and uid=%s;\",data)\n",
    "    conn.commit()\n",
    "    cur.close()\n",
    "    conn.close()\n",
    "    \n",
    "    return \"alert deleted\"\n",
    "\n",
    "\n",
    "\n",
    "\n",
    "@app.route(\"/alert/myalert/<int:c_uid>\")\n",
    "def myalert(c_uid):\n",
    "    DBHOST = \"http://172.0.0.1/\"\n",
    "    DBUSER = \"postgres\"\n",
    "    DBPASS =\"postgres\"\n",
    "\n",
    "\n",
    "    conn = psycopg2.connect(\n",
    "        host=\"localhost\",\n",
    "        database=\"postgres\",\n",
    "        user=\"postgres\",\n",
    "        password=\"postgres\")\n",
    "\n",
    "    \n",
    "    data= c_uid\n",
    "    cur =  conn.cursor()\n",
    "    cur.execute(\"SELECT aid,coinid,price,status FROM public.alert WHERE uid=%s;\",[c_uid])\n",
    "    rv = cur.fetchall()\n",
    "    print(rv)\n",
    "    payload = []\n",
    "    content = {}\n",
    "    for result in rv:\n",
    "        content = {'id': result[0], 'Coin': result[1], 'Price': result[2], 'Trigger Status': result[3]}\n",
    "        payload.append(content)\n",
    "        content = {}\n",
    "   \n",
    "    print(rv)\n",
    "    return jsonify(payload)\n",
    "    cur.close()\n",
    "    conn.close()\n",
    "    \n",
    "    \n",
    "    \n",
    "    \n",
    "\n",
    "\n",
    "\n",
    "\n",
    "\n",
    "\n",
    "app.run()"
   ]
  },
  {
   "cell_type": "code",
   "execution_count": 11,
   "metadata": {},
   "outputs": [],
   "source": []
  },
  {
   "cell_type": "code",
   "execution_count": null,
   "metadata": {},
   "outputs": [],
   "source": []
  }
 ],
 "metadata": {
  "kernelspec": {
   "display_name": "Python 3",
   "language": "python",
   "name": "python3"
  },
  "language_info": {
   "codemirror_mode": {
    "name": "ipython",
    "version": 3
   },
   "file_extension": ".py",
   "mimetype": "text/x-python",
   "name": "python",
   "nbconvert_exporter": "python",
   "pygments_lexer": "ipython3",
   "version": "3.7.6"
  }
 },
 "nbformat": 4,
 "nbformat_minor": 4
}
